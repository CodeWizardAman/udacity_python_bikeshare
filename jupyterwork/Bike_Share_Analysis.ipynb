{
 "cells": [
  {
   "cell_type": "markdown",
   "metadata": {},
   "source": [
    "# 2016 US Bike Share Activity Snapshot\n",
    "\n",
    "## Table of Contents\n",
    "- [Introduction](#intro)\n",
    "- [Posing Questions](#pose_questions)\n",
    "- [Data Collection and Wrangling](#wrangling)\n",
    "  - [Condensing the Trip Data](#condensing)\n",
    "- [Exploratory Data Analysis](#eda)\n",
    "  - [Statistics](#statistics)\n",
    "  - [Visualizations](#visualizations)\n",
    "- [Performing Your Own Analysis](#eda_continued)\n",
    "- [Conclusions](#conclusions)\n",
    "\n",
    "<a id='intro'></a>\n",
    "## Introduction\n",
    "\n",
    "> **Tip**: Quoted sections like this will provide helpful instructions on how to navigate and use a Jupyter notebook.\n",
    "\n",
    "Over the past decade, bicycle-sharing systems have been growing in number and popularity in cities across the world. Bicycle-sharing systems allow users to rent bicycles for short trips, typically 30 minutes or less. Thanks to the rise in information technologies, it is easy for a user of the system to access a dock within the system to unlock or return bicycles. These technologies also provide a wealth of data that can be used to explore how these bike-sharing systems are used.\n",
    "\n",
    "In this project, you will perform an exploratory analysis on data provided by [Motivate](https://www.motivateco.com/), a bike-share system provider for many major cities in the United States. You will compare the system usage between three large cities: New York City, Chicago, and Washington, DC. You will also see if there are any differences within each system for those users that are registered, regular users and those users that are short-term, casual users."
   ]
  },
  {
   "cell_type": "markdown",
   "metadata": {},
   "source": [
    "<a id='pose_questions'></a>\n",
    "## Posing Questions\n",
    "\n",
    "Before looking at the bike sharing data, you should start by asking questions you might want to understand about the bike share data. Consider, for example, if you were working for Motivate. What kinds of information would you want to know about in order to make smarter business decisions? If you were a user of the bike-share service, what factors might influence how you would want to use the service?\n",
    "\n",
    "**Question 1**: Write at least two questions related to bike sharing that you think could be answered by data.\n",
    "\n",
    "**Answer**: What is the average number of bookings per hour in a day?\n",
    "            How many people took ride on weekends?\n",
    "\n",
    "> **Tip**: If you double click on this cell, you will see the text change so that all of the formatting is removed. This allows you to edit this block of text. This block of text is written using [Markdown](http://daringfireball.net/projects/markdown/syntax), which is a way to format text using headers, links, italics, and many other options using a plain-text syntax. You will also use Markdown later in the Nanodegree program. Use **Shift** + **Enter** or **Shift** + **Return** to run the cell and show its rendered form."
   ]
  },
  {
   "cell_type": "markdown",
   "metadata": {},
   "source": [
    "<a id='wrangling'></a>\n",
    "## Data Collection and Wrangling\n",
    "\n",
    "Now it's time to collect and explore our data. In this project, we will focus on the record of individual trips taken in 2016 from our selected cities: New York City, Chicago, and Washington, DC. Each of these cities has a page where we can freely download the trip data.:\n",
    "\n",
    "- New York City (Citi Bike): [Link](https://www.citibikenyc.com/system-data)\n",
    "- Chicago (Divvy): [Link](https://www.divvybikes.com/system-data)\n",
    "- Washington, DC (Capital Bikeshare): [Link](https://www.capitalbikeshare.com/system-data)\n",
    "\n",
    "If you visit these pages, you will notice that each city has a different way of delivering its data. Chicago updates with new data twice a year, Washington DC is quarterly, and New York City is monthly. **However, you do not need to download the data yourself.** The data has already been collected for you in the `/data/` folder of the project files. While the original data for 2016 is spread among multiple files for each city, the files in the `/data/` folder collect all of the trip data for the year into one file per city. Some data wrangling of inconsistencies in timestamp format within each city has already been performed for you. In addition, a random 2% sample of the original data is taken to make the exploration more manageable. \n",
    "\n",
    "**Question 2**: However, there is still a lot of data for us to investigate, so it's a good idea to start off by looking at one entry from each of the cities we're going to analyze. Run the first code cell below to load some packages and functions that you'll be using in your analysis. Then, complete the second code cell to print out the first trip recorded from each of the cities (the second line of each data file).\n",
    "\n",
    "> **Tip**: You can run a code cell like you formatted Markdown cells above by clicking on the cell and using the keyboard shortcut **Shift** + **Enter** or **Shift** + **Return**. Alternatively, a code cell can be executed using the **Play** button in the toolbar after selecting it. While the cell is running, you will see an asterisk in the message to the left of the cell, i.e. `In [*]:`. The asterisk will change into a number to show that execution has completed, e.g. `In [1]`. If there is output, it will show up as `Out [1]:`, with an appropriate number to match the \"In\" number."
   ]
  },
  {
   "cell_type": "code",
   "execution_count": 2,
   "metadata": {},
   "outputs": [],
   "source": [
    "## import all necessary packages and functions.\n",
    "import csv # read and write csv files\n",
    "from datetime import datetime # operations to parse dates\n",
    "from pprint import pprint # use to print data structures like dictionaries in\n",
    "                          # a nicer way than the base print function."
   ]
  },
  {
   "cell_type": "code",
   "execution_count": 3,
   "metadata": {
    "scrolled": true
   },
   "outputs": [
    {
     "name": "stdout",
     "output_type": "stream",
     "text": [
      "\n",
      "City: NYC\n",
      "OrderedDict([('tripduration', '839'), ('starttime', '1/1/2016 00:09:55'), ('stoptime', '1/1/2016 00:23:54'), ('start station id', '532'), ('start station name', 'S 5 Pl & S 4 St'), ('start station latitude', '40.710451'), ('start station longitude', '-73.960876'), ('end station id', '401'), ('end station name', 'Allen St & Rivington St'), ('end station latitude', '40.72019576'), ('end station longitude', '-73.98997825'), ('bikeid', '17109'), ('usertype', 'Customer'), ('birth year', ''), ('gender', '0')])\n",
      "\n",
      "City: Chicago\n",
      "OrderedDict([('trip_id', '9080545'), ('starttime', '3/31/2016 23:30'), ('stoptime', '3/31/2016 23:46'), ('bikeid', '2295'), ('tripduration', '926'), ('from_station_id', '156'), ('from_station_name', 'Clark St & Wellington Ave'), ('to_station_id', '166'), ('to_station_name', 'Ashland Ave & Wrightwood Ave'), ('usertype', 'Subscriber'), ('gender', 'Male'), ('birthyear', '1990')])\n",
      "\n",
      "City: Washington\n",
      "OrderedDict([('Duration (ms)', '427387'), ('Start date', '3/31/2016 22:57'), ('End date', '3/31/2016 23:04'), ('Start station number', '31602'), ('Start station', 'Park Rd & Holmead Pl NW'), ('End station number', '31207'), ('End station', 'Georgia Ave and Fairmont St NW'), ('Bike number', 'W20842'), ('Member Type', 'Registered')])\n"
     ]
    }
   ],
   "source": [
    "def print_first_point(filename):\n",
    "    \"\"\"\n",
    "    This function prints and returns the first data point (second row) from\n",
    "    a csv file that includes a header row.\n",
    "    \"\"\"\n",
    "    # print city name for reference\n",
    "    city = filename.split('-')[0].split('/')[-1]\n",
    "    print('\\nCity: {}'.format(city))\n",
    "    \n",
    "    with open(filename, 'r') as f_in:\n",
    "        ## TODO: Use the csv library to set up a DictReader object. ##\n",
    "        ## see https://docs.python.org/3/library/csv.html           ##\n",
    "        trip_reader = csv.DictReader(f_in)\n",
    "        \n",
    "        ## TODO: Use a function on the DictReader object to read the     ##\n",
    "        ## first trip from the data file and store it in a variable.     ##\n",
    "        ## see https://docs.python.org/3/library/csv.html#reader-objects ##\n",
    "        first_trip = trip_reader.__next__()\n",
    "        print(first_trip)\n",
    "        ## TODO: Use the pprint library to print the first trip. ##\n",
    "        ## see https://docs.python.org/3/library/pprint.html     ##\n",
    "        \n",
    "    # output city name and first trip for later testing\n",
    "    return (city, first_trip)\n",
    "\n",
    "# list of files for each city\n",
    "data_files = ['./data/NYC-CitiBike-2016.csv',\n",
    "              './data/Chicago-Divvy-2016.csv',\n",
    "              './data/Washington-CapitalBikeshare-2016.csv',]\n",
    "\n",
    "# print the first trip from each file, store in dictionary\n",
    "example_trips = {}\n",
    "for data_file in data_files:\n",
    "    city, first_trip = print_first_point(data_file)\n",
    "    example_trips[city] = first_trip"
   ]
  },
  {
   "cell_type": "code",
   "execution_count": null,
   "metadata": {},
   "outputs": [],
   "source": []
  },
  {
   "cell_type": "markdown",
   "metadata": {},
   "source": [
    "If everything has been filled out correctly, you should see below the printout of each city name (which has been parsed from the data file name) that the first trip has been parsed in the form of a dictionary. When you set up a `DictReader` object, the first row of the data file is normally interpreted as column names. Every other row in the data file will use those column names as keys, as a dictionary is generated for each row.\n",
    "\n",
    "This will be useful since we can refer to quantities by an easily-understandable label instead of just a numeric index. For example, if we have a trip stored in the variable `row`, then we would rather get the trip duration from `row['duration']` instead of `row[0]`.\n",
    "\n",
    "<a id='condensing'></a>\n",
    "### Condensing the Trip Data\n",
    "\n",
    "It should also be observable from the above printout that each city provides different information. Even where the information is the same, the column names and formats are sometimes different. To make things as simple as possible when we get to the actual exploration, we should trim and clean the data. Cleaning the data makes sure that the data formats across the cities are consistent, while trimming focuses only on the parts of the data we are most interested in to make the exploration easier to work with.\n",
    "\n",
    "You will generate new data files with five values of interest for each trip: trip duration, starting month, starting hour, day of the week, and user type. Each of these may require additional wrangling depending on the city:\n",
    "\n",
    "- **Duration**: This has been given to us in seconds (New York, Chicago) or milliseconds (Washington). A more natural unit of analysis will be if all the trip durations are given in terms of minutes.\n",
    "- **Month**, **Hour**, **Day of Week**: Ridership volume is likely to change based on the season, time of day, and whether it is a weekday or weekend. Use the start time of the trip to obtain these values. The New York City data includes the seconds in their timestamps, while Washington and Chicago do not. The [`datetime`](https://docs.python.org/3/library/datetime.html) package will be very useful here to make the needed conversions.\n",
    "- **User Type**: It is possible that users who are subscribed to a bike-share system will have different patterns of use compared to users who only have temporary passes. Washington divides its users into two types: 'Registered' for users with annual, monthly, and other longer-term subscriptions, and 'Casual', for users with 24-hour, 3-day, and other short-term passes. The New York and Chicago data uses 'Subscriber' and 'Customer' for these groups, respectively. For consistency, you will convert the Washington labels to match the other two.\n",
    "\n",
    "\n",
    "**Question 3a**: Complete the helper functions in the code cells below to address each of the cleaning tasks described above."
   ]
  },
  {
   "cell_type": "code",
   "execution_count": 4,
   "metadata": {},
   "outputs": [],
   "source": [
    "def duration_in_mins(datum, city):\n",
    "    \"\"\"\n",
    "    Takes as input a dictionary containing info about a single trip (datum) and\n",
    "    its origin city (city) and returns the trip duration in units of minutes.\n",
    "    \n",
    "    Remember that Washington is in terms of milliseconds while Chicago and NYC\n",
    "    are in terms of seconds. \n",
    "    \n",
    "    HINT: The csv module reads in all of the data as strings, including numeric\n",
    "    values. You will need a function to convert the strings into an appropriate\n",
    "    numeric type when making your transformations.\n",
    "    see https://docs.python.org/3/library/functions.html\n",
    "    \"\"\"\n",
    "    \n",
    "    # YOUR CODE HERE\n",
    "    if city == 'NYC':\n",
    "        duration = int(datum['tripduration'])\n",
    "        \n",
    "    elif city == 'Chicago':\n",
    "        duration = int(datum['tripduration'])\n",
    "        \n",
    "    else:\n",
    "        duration = int(datum['Duration (ms)'])\n",
    "        duration = duration * 0.001\n",
    "        \n",
    "    duration = duration/60\n",
    "\n",
    "    return duration\n",
    "\n",
    "\n",
    "# Some tests to check that your code works. There should be no output if all of\n",
    "# the assertions pass. The `example_trips` dictionary was obtained from when\n",
    "# you printed the first trip from each of the original data files.\n",
    "tests = {'NYC': 13.9833,\n",
    "         'Chicago': 15.4333,\n",
    "         'Washington': 7.1231}\n",
    "\n",
    "for city in tests:\n",
    "    assert abs(duration_in_mins(example_trips[city], city) - tests[city]) < .001"
   ]
  },
  {
   "cell_type": "code",
   "execution_count": 5,
   "metadata": {},
   "outputs": [],
   "source": [
    "def time_of_trip(datum, city):\n",
    "    \"\"\"\n",
    "    Takes as input a dictionary containing info about a single trip (datum) and\n",
    "    its origin city (city) and returns the month, hour, and day of the week in\n",
    "    which the trip was made.\n",
    "    \n",
    "    Remember that NYC includes seconds, while Washington and Chicago do not.\n",
    "    \n",
    "    HINT: You should use the datetime module to parse the original date\n",
    "    strings into a format that is useful for extracting the desired information.\n",
    "    see https://docs.python.org/3/library/datetime.html#strftime-and-strptime-behavior\n",
    "    \"\"\"\n",
    "    \n",
    "    # YOUR CODE HERE\n",
    "    if city == 'NYC':\n",
    "        original_string = datum['starttime']\n",
    "        dateobject = datetime.strptime(original_string,'%m/%d/%Y %H:%M:%S')\n",
    "        \n",
    "    elif city == 'Chicago':\n",
    "        original_string = datum['starttime']\n",
    "        dateobject = datetime.strptime(original_string,'%m/%d/%Y %H:%M')\n",
    "        \n",
    "    else:\n",
    "        original_string = datum['Start date']\n",
    "        dateobject = datetime.strptime(original_string,'%m/%d/%Y %H:%M')\n",
    "        \n",
    "    month = dateobject.month\n",
    "    hour = dateobject.hour\n",
    "    day_of_week = dateobject.strftime('%A')\n",
    "    return (month, hour, day_of_week)\n",
    "\n",
    "\n",
    "# Some tests to check that your code works. There should be no output if all of\n",
    "# the assertions pass. The `example_trips` dictionary was obtained from when\n",
    "# you printed the first trip from each of the original data files.\n",
    "tests = {'NYC': (1, 0, 'Friday'),\n",
    "         'Chicago': (3, 23, 'Thursday'),\n",
    "         'Washington': (3, 22, 'Thursday')}\n",
    "\n",
    "for city in tests:\n",
    "    assert time_of_trip(example_trips[city], city) == tests[city]"
   ]
  },
  {
   "cell_type": "code",
   "execution_count": 6,
   "metadata": {},
   "outputs": [],
   "source": [
    "def type_of_user(datum, city):\n",
    "    \"\"\"\n",
    "    Takes as input a dictionary containing info about a single trip (datum) and\n",
    "    its origin city (city) and returns the type of system user that made the\n",
    "    trip.\n",
    "    \n",
    "    Remember that Washington has different category names compared to Chicago\n",
    "    and NYC. \n",
    "    \"\"\"\n",
    "    \n",
    "    # YOUR CODE HERE\n",
    "    if city == 'NYC':\n",
    "        user_type = datum['usertype']\n",
    "    \n",
    "    elif city == 'Chicago':\n",
    "        user_type = datum['usertype']\n",
    "    \n",
    "    elif city == 'Washington':\n",
    "        if datum['Member Type'] == 'Registered':\n",
    "            user_type = 'Subscriber'\n",
    "        else:\n",
    "            user_type = 'Customer'\n",
    "    return user_type\n",
    "\n",
    "\n",
    "# Some tests to check that your code works. There should be no output if all of\n",
    "# the assertions pass. The `example_trips` dictionary was obtained from when\n",
    "# you printed the first trip from each of the original data files.\n",
    "tests = {'NYC': 'Customer',\n",
    "         'Chicago': 'Subscriber',\n",
    "         'Washington': 'Subscriber'}\n",
    "\n",
    "for city in tests:\n",
    "    assert type_of_user(example_trips[city], city) == tests[city]"
   ]
  },
  {
   "cell_type": "markdown",
   "metadata": {},
   "source": [
    "**Question 3b**: Now, use the helper functions you wrote above to create a condensed data file for each city consisting only of the data fields indicated above. In the `/examples/` folder, you will see an example datafile from the [Bay Area Bike Share](http://www.bayareabikeshare.com/open-data) before and after conversion. Make sure that your output is formatted to be consistent with the example file."
   ]
  },
  {
   "cell_type": "code",
   "execution_count": 7,
   "metadata": {},
   "outputs": [],
   "source": [
    "def condense_data(in_file, out_file, city):\n",
    "    \"\"\"\n",
    "    This function takes full data from the specified input file\n",
    "    and writes the condensed data to a specified output file. The city\n",
    "    argument determines how the input file will be parsed.\n",
    "    \n",
    "    HINT: See the cell below to see how the arguments are structured!\n",
    "    \"\"\"\n",
    "    \n",
    "    with open(out_file, 'w') as f_out, open(in_file, 'r') as f_in:\n",
    "        # set up csv DictWriter object - writer requires column names for the\n",
    "        # first row as the \"fieldnames\" argument\n",
    "        out_colnames = ['duration', 'month', 'hour', 'day_of_week', 'user_type']        \n",
    "        trip_writer = csv.DictWriter(f_out, fieldnames = out_colnames)\n",
    "        trip_writer.writeheader()\n",
    "        \n",
    "        ## TODO: set up csv DictReader object ##\n",
    "        trip_reader = csv.DictReader(f_in)\n",
    "\n",
    "        # collect data from and process each row\n",
    "        for row in trip_reader:\n",
    "            # set up a dictionary to hold the values for the cleaned and trimmed\n",
    "            # data point\n",
    "            new_point = {}\n",
    "            \n",
    "            ## TODO: use the helper functions to get the cleaned data from  ##\n",
    "            ## the original data dictionaries.                              ##\n",
    "            ## Note that the keys for the new_point dictionary should match ##\n",
    "            ## the column names set in the DictWriter object above.         ##\n",
    "            month, hour, dayofweek = time_of_trip(row, city)\n",
    "            duration = duration_in_mins(row, city)\n",
    "            user_type = type_of_user(row, city)\n",
    "            \n",
    "            new_point[out_colnames[0]] = duration\n",
    "            new_point[out_colnames[1]] = month\n",
    "            new_point[out_colnames[2]] = hour\n",
    "            new_point[out_colnames[3]] = dayofweek\n",
    "            new_point[out_colnames[4]] = user_type\n",
    "            \n",
    "\n",
    "            ## TODO: write the processed information to the output file.     ##\n",
    "            ## see https://docs.python.org/3/library/csv.html#writer-objects ##\n",
    "            trip_writer.writerow(new_point)\n",
    "           \n",
    "            \n",
    "            "
   ]
  },
  {
   "cell_type": "code",
   "execution_count": 8,
   "metadata": {
    "scrolled": true
   },
   "outputs": [
    {
     "name": "stdout",
     "output_type": "stream",
     "text": [
      "\n",
      "City: Washington\n",
      "OrderedDict([('duration', '7.123116666666666'), ('month', '3'), ('hour', '22'), ('day_of_week', 'Thursday'), ('user_type', 'Subscriber')])\n",
      "\n",
      "City: Chicago\n",
      "OrderedDict([('duration', '15.433333333333334'), ('month', '3'), ('hour', '23'), ('day_of_week', 'Thursday'), ('user_type', 'Subscriber')])\n",
      "\n",
      "City: NYC\n",
      "OrderedDict([('duration', '13.983333333333333'), ('month', '1'), ('hour', '0'), ('day_of_week', 'Friday'), ('user_type', 'Customer')])\n"
     ]
    }
   ],
   "source": [
    "# Run this cell to check your work\n",
    "city_info = {'Washington': {'in_file': './data/Washington-CapitalBikeshare-2016.csv',\n",
    "                            'out_file': './data/Washington-2016-Summary.csv'},\n",
    "             'Chicago': {'in_file': './data/Chicago-Divvy-2016.csv',\n",
    "                         'out_file': './data/Chicago-2016-Summary.csv'},\n",
    "             'NYC': {'in_file': './data/NYC-CitiBike-2016.csv',\n",
    "                     'out_file': './data/NYC-2016-Summary.csv'}}\n",
    "\n",
    "for city, filenames in city_info.items():\n",
    "    condense_data(filenames['in_file'], filenames['out_file'], city)\n",
    "    print_first_point(filenames['out_file'])"
   ]
  },
  {
   "cell_type": "markdown",
   "metadata": {},
   "source": [
    "> **Tip**: If you save a jupyter Notebook, the output from running code blocks will also be saved. However, the state of your workspace will be reset once a new session is started. Make sure that you run all of the necessary code blocks from your previous session to reestablish variables and functions before picking up where you last left off.\n",
    "\n",
    "<a id='eda'></a>\n",
    "## Exploratory Data Analysis\n",
    "\n",
    "Now that you have the data collected and wrangled, you're ready to start exploring the data. In this section you will write some code to compute descriptive statistics from the data. You will also be introduced to the `matplotlib` library to create some basic histograms of the data.\n",
    "\n",
    "<a id='statistics'></a>\n",
    "### Statistics\n",
    "\n",
    "First, let's compute some basic counts. The first cell below contains a function that uses the csv module to iterate through a provided data file, returning the number of trips made by subscribers and customers. The second cell runs this function on the example Bay Area data in the `/examples/` folder. Modify the cells to answer the question below.\n",
    "\n",
    "**Question 4a**: Which city has the highest number of trips? Which city has the highest proportion of trips made by subscribers? Which city has the highest proportion of trips made by short-term customers?\n",
    "\n",
    "**Answer**: New York City has the highest number of trips. NYC has the highest proportion of trips made by subscribers. Chicago has the proportion of trips made by short-term customers."
   ]
  },
  {
   "cell_type": "code",
   "execution_count": 9,
   "metadata": {},
   "outputs": [],
   "source": [
    "def number_of_trips(filename):\n",
    "    \"\"\"\n",
    "    This function reads in a file with trip data and reports the number of\n",
    "    trips made by subscribers, customers, and total overall.\n",
    "    \"\"\"\n",
    "    with open(filename, 'r') as f_in:\n",
    "        # set up csv reader object\n",
    "        reader = csv.DictReader(f_in)\n",
    "        \n",
    "        # initialize count variables\n",
    "        n_subscribers = 0\n",
    "        n_customers = 0\n",
    "        \n",
    "        # tally up ride types\n",
    "        for row in reader:\n",
    "            if row['user_type'] == 'Subscriber':\n",
    "                n_subscribers += 1\n",
    "            else:\n",
    "                n_customers += 1\n",
    "        \n",
    "        # compute total number of rides\n",
    "        n_total = n_subscribers + n_customers\n",
    "        \n",
    "        subscriber_proportion = (n_subscribers / n_total) * 100\n",
    "        customer_proportion = (n_customers / n_total) * 100\n",
    "        \n",
    "        # return tallies as a tuple\n",
    "        return(n_subscribers, n_customers, n_total, subscriber_proportion, customer_proportion)"
   ]
  },
  {
   "cell_type": "code",
   "execution_count": 10,
   "metadata": {},
   "outputs": [
    {
     "name": "stdout",
     "output_type": "stream",
     "text": [
      "./data/Washington-2016-Summary.csv :\n",
      "\n",
      "Subscribers:  51753\n",
      "Customers:  14573\n",
      "Total:  66326\n",
      "Subscriber Proportion:  78.0282242257938\n",
      "Customer Proportion:  21.971775774206193\n",
      "\n",
      "\n",
      "./data/Chicago-2016-Summary.csv :\n",
      "\n",
      "Subscribers:  54982\n",
      "Customers:  17149\n",
      "Total:  72131\n",
      "Subscriber Proportion:  76.22520136973007\n",
      "Customer Proportion:  23.774798630269924\n",
      "\n",
      "\n",
      "./data/NYC-2016-Summary.csv :\n",
      "\n",
      "Subscribers:  245896\n",
      "Customers:  30902\n",
      "Total:  276798\n",
      "Subscriber Proportion:  88.83590199351151\n",
      "Customer Proportion:  11.164098006488485\n",
      "\n",
      "\n"
     ]
    }
   ],
   "source": [
    "## Modify this and the previous cell to answer Question 4a. Remember to run ##\n",
    "## the function on the cleaned data files you created from Question 3.      ##\n",
    "files = ['./data/Washington-2016-Summary.csv', './data/Chicago-2016-Summary.csv', './data/NYC-2016-Summary.csv']\n",
    "\n",
    "for file in files:\n",
    "    print(file,\":\\n\")\n",
    "    n_subscribers, n_customers, n_total, subscriber_proportion, customer_proportion = number_of_trips(file)\n",
    "    print(\"Subscribers: \", n_subscribers)\n",
    "    print(\"Customers: \", n_customers)\n",
    "    print(\"Total: \", n_total)\n",
    "    print(\"Subscriber Proportion: \", subscriber_proportion)\n",
    "    print(\"Customer Proportion: \", customer_proportion)\n",
    "    print(\"\\n\")\n"
   ]
  },
  {
   "cell_type": "markdown",
   "metadata": {},
   "source": [
    "> **Tip**: In order to add additional cells to a notebook, you can use the \"Insert Cell Above\" and \"Insert Cell Below\" options from the menu bar above. There is also an icon in the toolbar for adding new cells, with additional icons for moving the cells up and down the document. By default, new cells are of the code type; you can also specify the cell type (e.g. Code or Markdown) of selected cells from the Cell menu or the dropdown in the toolbar.\n",
    "\n",
    "Now, you will write your own code to continue investigating properties of the data.\n",
    "\n",
    "**Question 4b**: Bike-share systems are designed for riders to take short trips. Most of the time, users are allowed to take trips of 30 minutes or less with no additional charges, with overage charges made for trips of longer than that duration. What is the average trip length for each city? What proportion of rides made in each city are longer than 30 minutes?\n",
    "\n",
    "**Answer**: \n",
    "Average trip length -Washington: 18.93\n",
    "Ride Proportion greater than 30 minutes is 10.84%\n",
    "\n",
    "Average trip length -Chicago: 16.56\n",
    "Ride Proportion greater than 30 minutes is 8.33%\n",
    "\n",
    "\n",
    "Average trip length -NYC: 15.81\n",
    "Ride Proportion greater than 30 minutes is 7.3%\n"
   ]
  },
  {
   "cell_type": "code",
   "execution_count": 11,
   "metadata": {},
   "outputs": [],
   "source": [
    "def avg_trip_length(filename):\n",
    "    trip_length = 0.0\n",
    "    trip_counter = 0\n",
    "    rides_duration_counter = 0\n",
    "    with open(filename, 'r') as f_in:\n",
    "        reader = csv.DictReader(f_in)\n",
    "        for row in reader:\n",
    "            duration = float(row['duration'])\n",
    "            if(duration > 30):\n",
    "                rides_duration_counter = rides_duration_counter +1\n",
    "                \n",
    "            trip_length = trip_length + duration\n",
    "            trip_counter = trip_counter + 1\n",
    "    rides_proportion = (rides_duration_counter/trip_counter) * 100\n",
    "    return rides_proportion, trip_length/trip_counter"
   ]
  },
  {
   "cell_type": "code",
   "execution_count": null,
   "metadata": {},
   "outputs": [],
   "source": []
  },
  {
   "cell_type": "code",
   "execution_count": 12,
   "metadata": {
    "scrolled": true
   },
   "outputs": [
    {
     "name": "stdout",
     "output_type": "stream",
     "text": [
      "./data/Washington-2016-Summary.csv \n",
      "\n",
      "18.93\n",
      "Ride Proportion greater than 30 minutes is 10.84%\n",
      "\n",
      "\n",
      "./data/Chicago-2016-Summary.csv \n",
      "\n",
      "16.56\n",
      "Ride Proportion greater than 30 minutes is 8.33%\n",
      "\n",
      "\n",
      "./data/NYC-2016-Summary.csv \n",
      "\n",
      "15.81\n",
      "Ride Proportion greater than 30 minutes is 7.3%\n",
      "\n",
      "\n"
     ]
    }
   ],
   "source": [
    "## Use this and additional cells to answer Question 4b.                 ##\n",
    "##                                                                      ##\n",
    "## HINT: The csv module reads in all of the data as strings, including  ##\n",
    "## numeric values. You will need a function to convert the strings      ##\n",
    "## into an appropriate numeric type before you aggregate data.          ##\n",
    "## TIP: For the Bay Area example, the average trip length is 14 minutes ##\n",
    "## and 3.5% of trips are longer than 30 minutes.   \n",
    "##\n",
    "\n",
    "files = ['./data/Washington-2016-Summary.csv', './data/Chicago-2016-Summary.csv', './data/NYC-2016-Summary.csv']\n",
    "\n",
    "for file in files:\n",
    "        rides_proportion, average_trip_length = avg_trip_length(file)\n",
    "        print(file,\"\\n\")\n",
    "        print(round(average_trip_length,2))\n",
    "        print(\"Ride Proportion greater than 30 minutes is {0}%\".format(round(rides_proportion,2)))\n",
    "        print(\"\\n\")\n",
    "\n"
   ]
  },
  {
   "cell_type": "markdown",
   "metadata": {},
   "source": [
    "**Question 4c**: Dig deeper into the question of trip duration based on ridership. Choose one city. Within that city, which type of user takes longer rides on average: Subscribers or Customers?\n",
    "\n",
    "**Answer**: Customer take Longer ride for NYC"
   ]
  },
  {
   "cell_type": "code",
   "execution_count": 13,
   "metadata": {},
   "outputs": [],
   "source": [
    "## Use this and additional cells to answer Question 4c. If you have    ##\n",
    "## not done so yet, consider revising some of your previous code to    ##\n",
    "## make use of functions for reusability.                              ##\n",
    "##                                                                     ##\n",
    "## TIP: For the Bay Area example data, you should find the average     ##\n",
    "## Subscriber trip duration to be 9.5 minutes and the average Customer ##\n",
    "## trip duration to be 54.6 minutes. Do the other cities have this     ##\n",
    "## level of difference?                                                ##\n",
    "def evaluate_user_ride(filename,city):\n",
    "    customer_duration = 0\n",
    "    customer_counter = 0\n",
    "    subscriber_duration= 0\n",
    "    subscriber_counter = 0\n",
    "   \n",
    "    with open(filename, 'r') as f_in:\n",
    "        reader = csv.DictReader(f_in)     \n",
    "        for row in reader:\n",
    "            if row['user_type']=='Customer':\n",
    "                customer_duration = customer_duration + float(row['duration'])\n",
    "                customer_counter = customer_counter + 1\n",
    "\n",
    "            if row['user_type']=='Subscriber':\n",
    "                subsrciber_duration = subscriber_duration + float(row['duration'])   \n",
    "                subscriber_counter = subscriber_counter + 1\n",
    "        \n",
    "        customer_avg_duration = customer_duration/customer_counter\n",
    "        subscriber_avg_duration = subsrciber_duration/subscriber_counter\n",
    "        \n",
    "        if customer_avg_duration > subscriber_avg_duration:\n",
    "            print(\"Customer take Longer ride for {0}\".format(city))\n",
    "        else:\n",
    "            print(\"Subscriber take Longer ride for {0}\".format(city))"
   ]
  },
  {
   "cell_type": "code",
   "execution_count": 14,
   "metadata": {},
   "outputs": [
    {
     "name": "stdout",
     "output_type": "stream",
     "text": [
      "Customer take Longer ride for NYC\n"
     ]
    }
   ],
   "source": [
    "file = './data/NYC-2016-Summary.csv'\n",
    "\n",
    "\n",
    "evaluate_user_ride(file,'NYC')"
   ]
  },
  {
   "cell_type": "markdown",
   "metadata": {},
   "source": [
    "<a id='visualizations'></a>\n",
    "### Visualizations\n",
    "\n",
    "The last set of values that you computed should have pulled up an interesting result. While the mean trip time for Subscribers is well under 30 minutes, the mean trip time for Customers is actually _above_ 30 minutes! It will be interesting for us to look at how the trip times are distributed. In order to do this, a new library will be introduced here, `matplotlib`. Run the cell below to load the library and to generate an example plot."
   ]
  },
  {
   "cell_type": "code",
   "execution_count": 15,
   "metadata": {},
   "outputs": [
    {
     "data": {
      "image/png": "[encoded data removed]",
      "text/plain": [
       "<matplotlib.figure.Figure at 0x7f3dc773c160>"
      ]
     },
     "metadata": {},
     "output_type": "display_data"
    }
   ],
   "source": [
    "# load library\n",
    "import matplotlib.pyplot as plt\n",
    "\n",
    "# this is a 'magic word' that allows for plots to be displayed\n",
    "# inline with the notebook. If you want to know more, see:\n",
    "# http://ipython.readthedocs.io/en/stable/interactive/magics.html\n",
    "%matplotlib inline \n",
    "\n",
    "# example histogram, data taken from bay area sample\n",
    "data = [ 7.65,  8.92,  7.42,  5.50, 16.17,  4.20,  8.98,  9.62, 11.48, 14.33,\n",
    "        19.02, 21.53,  3.90,  7.97,  2.62,  2.67,  3.08, 14.40, 12.90,  7.83,\n",
    "        25.12,  8.30,  4.93, 12.43, 10.60,  6.17, 10.88,  4.78, 15.15,  3.53,\n",
    "         9.43, 13.32, 11.72,  9.85,  5.22, 15.10,  3.95,  3.17,  8.78,  1.88,\n",
    "         4.55, 12.68, 12.38,  9.78,  7.63,  6.45, 17.38, 11.90, 11.52,  8.63,]\n",
    "plt.hist(data)\n",
    "plt.title('Distribution of Trip Durations')\n",
    "plt.xlabel('Duration (m)')\n",
    "plt.show()"
   ]
  },
  {
   "cell_type": "markdown",
   "metadata": {},
   "source": [
    "In the above cell, we collected fifty trip times in a list, and passed this list as the first argument to the `.hist()` function. This function performs the computations and creates plotting objects for generating a histogram, but the plot is actually not rendered until the `.show()` function is executed. The `.title()` and `.xlabel()` functions provide some labeling for plot context.\n",
    "\n",
    "You will now use these functions to create a histogram of the trip times for the city you selected in question 4c. Don't separate the Subscribers and Customers for now: just collect all of the trip times and plot them."
   ]
  },
  {
   "cell_type": "code",
   "execution_count": 16,
   "metadata": {},
   "outputs": [],
   "source": [
    "## Use this and additional cells to collect all of the trip times as a list ##\n",
    "## and then use pyplot functions to generate a histogram of trip times.     ##\n",
    "\n",
    "def generate_histogram(filename, city):\n",
    "    hist_data = []\n",
    "    with open(filename, 'r') as f_in:\n",
    "        reader = csv.DictReader(f_in)\n",
    "        for row in reader:\n",
    "            if(city == 'NYC'):\n",
    "                duration = float(row['duration'])\n",
    "                hist_data.append(round(duration, 2))\n",
    "    \n",
    "    plt.hist(hist_data)\n",
    "    plt.title(\"Distribution of Newyork city trip time\")\n",
    "    plt.xlabel(\"Duration(m)\")\n",
    "    plt.show\n"
   ]
  },
  {
   "cell_type": "code",
   "execution_count": 17,
   "metadata": {},
   "outputs": [
    {
     "data": {
      "image/png": "[encoded data removed]",
      "text/plain": [
       "<matplotlib.figure.Figure at 0x7f3db691a780>"
      ]
     },
     "metadata": {},
     "output_type": "display_data"
    }
   ],
   "source": [
    "file = './data/NYC-2016-Summary.csv'\n",
    "generate_histogram(file, 'NYC')\n"
   ]
  },
  {
   "cell_type": "markdown",
   "metadata": {},
   "source": [
    "If you followed the use of the `.hist()` and `.show()` functions exactly like in the example, you're probably looking at a plot that's completely unexpected. The plot consists of one extremely tall bar on the left, maybe a very short second bar, and a whole lot of empty space in the center and right. Take a look at the duration values on the x-axis. This suggests that there are some highly infrequent outliers in the data. Instead of reprocessing the data, you will use additional parameters with the `.hist()` function to limit the range of data that is plotted. Documentation for the function can be found [[here]](https://matplotlib.org/devdocs/api/_as_gen/matplotlib.pyplot.hist.html#matplotlib.pyplot.hist).\n",
    "\n",
    "**Question 5**: Use the parameters of the `.hist()` function to plot the distribution of trip times for the Subscribers in your selected city. Do the same thing for only the Customers. Add limits to the plots so that only trips of duration less than 75 minutes are plotted. As a bonus, set the plots up so that bars are in five-minute wide intervals. For each group, where is the peak of each distribution? How would you describe the shape of each distribution?\n",
    "\n",
    "**Answer**: For subscribers the peak duration is 10-15 minutes and for customers peak duration is 25-30 minutes. The shape of each distribution is 'Skewed Right'"
   ]
  },
  {
   "cell_type": "code",
   "execution_count": 18,
   "metadata": {},
   "outputs": [],
   "source": [
    "## Use this and additional cells to answer Question 5. ##\n",
    "import pylab\n",
    "import numpy as np\n",
    "from pylab import xticks\n",
    "\n",
    "def generate_histogram_for_subscribers(filename, city):\n",
    "    \n",
    "    hist_data = []\n",
    "    counter = 0\n",
    "    \n",
    "    with open(filename, 'r') as fin:\n",
    "        reader = csv.DictReader(fin)\n",
    "        for row in reader:\n",
    "            if row['user_type']=='Subscriber':\n",
    "                duration =float(row['duration'])\n",
    "                hist_data.append(duration)\n",
    "                counter = counter + 1\n",
    "          \n",
    "    bins =  np.arange(0, 75, 5)\n",
    "    plt.hist(hist_data, bins)\n",
    "    labels = ['5','10','15','20','25','30','35','40','45','50','55,''60','65','70','75']\n",
    "    plt.xticks(bins , labels)\n",
    "    plt.title(\"Distribution of trip duration for subscribers in Newyork\")\n",
    "    plt.xlabel(\"Duration(m)\")\n",
    "    plt.show()\n",
    "        \n",
    "\n",
    "\n",
    "                \n",
    "    \n",
    "    \n",
    "\n"
   ]
  },
  {
   "cell_type": "code",
   "execution_count": 19,
   "metadata": {},
   "outputs": [
    {
     "data": {
      "image/png": "[encoded data removed]",
      "text/plain": [
       "<matplotlib.figure.Figure at 0x7f3db621cf98>"
      ]
     },
     "metadata": {},
     "output_type": "display_data"
    }
   ],
   "source": [
    "file = './data/NYC-2016-Summary.csv'\n",
    "generate_histogram_for_subscribers(file, 'NYC')"
   ]
  },
  {
   "cell_type": "code",
   "execution_count": 20,
   "metadata": {},
   "outputs": [],
   "source": [
    "def generate_histogram_for_customers(filename, city):\n",
    "    \n",
    "    hist_data = []\n",
    "    counter = 0\n",
    "    \n",
    "    with open(filename, 'r') as fin:\n",
    "        reader = csv.DictReader(fin)\n",
    "        for row in reader:\n",
    "            if row['user_type']=='Customer':\n",
    "                duration =float(row['duration'])\n",
    "                hist_data.append(duration)\n",
    "                counter = counter + 1\n",
    "          \n",
    "    bins =  np.arange(0, 75, 5)\n",
    "    plt.hist(hist_data, bins)\n",
    "    labels = ['5','10','15','20','25','30','35','40','45','50','55,''60','65','70','75']\n",
    "    plt.xticks(bins , labels)\n",
    "    plt.title(\"Distribution of trip duration for customers in Newyork\")\n",
    "    plt.xlabel(\"Duration(m)\")\n",
    "    plt.show()"
   ]
  },
  {
   "cell_type": "code",
   "execution_count": 21,
   "metadata": {},
   "outputs": [
    {
     "data": {
      "image/png": "[encoded data removed]",
      "text/plain": [
       "<matplotlib.figure.Figure at 0x7f3db61b12e8>"
      ]
     },
     "metadata": {},
     "output_type": "display_data"
    }
   ],
   "source": [
    "file = './data/NYC-2016-Summary.csv'\n",
    "generate_histogram_for_customers(file, 'NYC')"
   ]
  },
  {
   "cell_type": "markdown",
   "metadata": {
    "collapsed": true
   },
   "source": [
    "<a id='eda_continued'></a>\n",
    "## Performing Your Own Analysis\n",
    "\n",
    "So far, you've performed an initial exploration into the data available. You have compared the relative volume of trips made between three U.S. cities and the ratio of trips made by Subscribers and Customers. For one of these cities, you have investigated differences between Subscribers and Customers in terms of how long a typical trip lasts. Now it is your turn to continue the exploration in a direction that you choose. Here are a few suggestions for questions to explore:\n",
    "\n",
    "- How does ridership differ by month or season? Which month / season has the highest ridership? Does the ratio of Subscriber trips to Customer trips change depending on the month or season?\n",
    "- Is the pattern of ridership different on the weekends versus weekdays? On what days are Subscribers most likely to use the system? What about Customers? Does the average duration of rides change depending on the day of the week?\n",
    "- During what time of day is the system used the most? Is there a difference in usage patterns for Subscribers and Customers?\n",
    "\n",
    "If any of the questions you posed in your answer to question 1 align with the bullet points above, this is a good opportunity to investigate one of them. As part of your investigation, you will need to create a visualization. If you want to create something other than a histogram, then you might want to consult the [Pyplot documentation](https://matplotlib.org/devdocs/api/pyplot_summary.html). In particular, if you are plotting values across a categorical variable (e.g. city, user type), a bar chart will be useful. The [documentation page for `.bar()`](https://matplotlib.org/devdocs/api/_as_gen/matplotlib.pyplot.bar.html#matplotlib.pyplot.bar) includes links at the bottom of the page with examples for you to build off of for your own use.\n",
    "\n",
    "**Question 6**: Continue the investigation by exploring another question that could be answered by the data available. Document the question you want to explore below. Your investigation should involve at least two variables and should compare at least two groups. You should also use at least one visualization as part of your explorations.\n",
    "\n",
    "How does ridership differ by month or season? Which month / season has the highest ridership? Does the ratio of Subscriber trips to Customer trips change depending on the month or season?\n",
    "\n",
    "**Answer**:  The ridership differ by season and city. Winter in the three cities has the lowest ridership. Autumn has the highest ridership. For Newyork, the ratio of Subscriber trips to Customer trips is highest in winter.\n",
    "\n",
    "Washington:\n",
    "Maximum Subscribers in Season:Summer which is 16160\n",
    "Maximum Customers in Season:Summer which is 5699\n",
    "Maximum Users in Season:Summer which is 21859\n",
    "\n",
    "Newyork:\n",
    "Maximum Subscribers in Season:Autumn which is 78554\n",
    "Maximum Customers in Season:Summer which is 11525\n",
    "Maximum Users in Season:Autumn which is 88366\n",
    "\n",
    "Chicago:\n",
    "Maximum Subscribers in Season:Summer which is 21198\n",
    "Maximum Customers in Season:Summer which is 8692\n",
    "Maximum Users in Season:Summer which is 29890"
   ]
  },
  {
   "cell_type": "code",
   "execution_count": 22,
   "metadata": {},
   "outputs": [],
   "source": [
    "## Use this and additional cells to continue to explore the dataset. ##\n",
    "## Once you have performed your exploration, document your findings  ##\n",
    "## in the Markdown cell above.         ##\n",
    "\n",
    "def seasonal_based_trips_computation(filename):\n",
    "    \n",
    "    with open(filename, 'r') as f_in:\n",
    "        reader = csv.DictReader(f_in)\n",
    "        \n",
    "        season_winter = (12, 1, 2)\n",
    "        season_spring = (3, 4, 5)\n",
    "        season_summer = (6, 7, 8)\n",
    "        season_autumn = (9, 10, 11)\n",
    "        \n",
    "        num_subscriber_winter = 0\n",
    "        num_subscriber_spring = 0\n",
    "        num_subscriber_summer = 0\n",
    "        num_subscriber_autumn = 0\n",
    "            \n",
    "        num_customer_winter = 0\n",
    "        num_customer_spring = 0\n",
    "        num_customer_summer = 0\n",
    "        num_customer_autumn = 0\n",
    "\n",
    "        for row in reader:\n",
    "            if row['user_type'] == 'Subscriber':\n",
    "                if int(row['month']) in season_winter:\n",
    "                    num_subscriber_winter = num_subscriber_winter + 1\n",
    "                    \n",
    "                elif int(row['month']) in season_spring:\n",
    "                    num_subscriber_spring = num_subscriber_spring + 1\n",
    "                \n",
    "                elif int(row['month']) in season_summer:\n",
    "                    num_subscriber_summer = num_subscriber_summer + 1\n",
    "                \n",
    "                else:\n",
    "                    num_subscriber_autumn = num_subscriber_autumn + 1\n",
    "            \n",
    "            else:\n",
    "                if int(row['month']) in season_winter:\n",
    "                    num_customer_winter = num_customer_winter + 1\n",
    "                    \n",
    "                elif int(row['month']) in season_spring:\n",
    "                    num_customer_spring = num_customer_spring + 1\n",
    "                \n",
    "                elif int(row['month']) in season_summer:\n",
    "                    num_customer_summer = num_customer_summer + 1\n",
    "                \n",
    "                else:\n",
    "                    num_customer_autumn = num_customer_autumn + 1\n",
    "                    \n",
    "        num_users_winter = num_subscriber_winter + num_customer_winter\n",
    "        num_users_spring = num_subscriber_spring + num_customer_spring\n",
    "        num_users_summer = num_subscriber_summer + num_customer_summer\n",
    "        num_users_autumn = num_subscriber_autumn + num_customer_autumn\n",
    "        \n",
    "        subscribers_to_customer_proportion_winter = num_subscriber_winter / num_customer_winter\n",
    "        subscribers_to_customer_proportion_spring = num_subscriber_spring / num_customer_spring\n",
    "        subscribers_to_customer_proportion_summer = num_subscriber_summer / num_customer_summer\n",
    "        subscribers_to_customer_proportion_autumn = num_subscriber_autumn / num_customer_autumn\n",
    "        \n",
    "        season_to_subscriber = {\"Winter\":num_subscriber_winter,\n",
    "                                 \"Spring\":num_subscriber_spring, \n",
    "                                 \"Summer\":num_subscriber_summer,\n",
    "                                 \"Autumn\":num_subscriber_autumn }\n",
    "        \n",
    "        season_to_customer = {\"Winter\":num_customer_winter,\n",
    "                                \"Spring\":num_customer_spring, \n",
    "                                \"Summer\":num_customer_summer,\n",
    "                                \"Autumn\":num_customer_autumn }\n",
    "        \n",
    "        season_to_user_proportion = {\"Winter\":subscribers_to_customer_proportion_winter,\n",
    "                                    \"Spring\":subscribers_to_customer_proportion_spring, \n",
    "                                    \"Summer\":subscribers_to_customer_proportion_summer,\n",
    "                                    \"Autumn\":subscribers_to_customer_proportion_autumn }\n",
    "        \n",
    "        season_to_users =  {\"Winter\":num_users_winter,\n",
    "                                \"Spring\":num_users_spring, \n",
    "                                \"Summer\":num_users_summer,\n",
    "                                \"Autumn\":num_users_autumn }\n",
    "        \n",
    "        \n",
    "        return season_to_subscriber, season_to_customer, season_to_user_proportion, season_to_users\n",
    "        \n",
    "        \n",
    "        "
   ]
  },
  {
   "cell_type": "code",
   "execution_count": 23,
   "metadata": {},
   "outputs": [
    {
     "name": "stdout",
     "output_type": "stream",
     "text": [
      "WASHINGTON:\n",
      "\n",
      "Maximum Subscribers in Season:Summer which is 16160\n",
      "\n",
      "Maximum Customers in Season:Summer which is 5699\n",
      "\n",
      "Maximum Users in Season:Summer which is 21859\n",
      "\n",
      "NYC:\n",
      "\n",
      "Maximum Subscribers in Season:Autumn which is 78554\n",
      "\n",
      "Maximum Customers in Season:Summer which is 11525\n",
      "\n",
      "Maximum Users in Season:Autumn which is 88366\n",
      "\n",
      "Chicago:\n",
      "\n",
      "Maximum Subscribers in Season:Summer which is 21198\n",
      "\n",
      "Maximum Customers in Season:Summer which is 8692\n",
      "\n",
      "Maximum Users in Season:Summer which is 29890\n"
     ]
    },
    {
     "data": {
      "image/png": "[encoded data removed]",
      "text/plain": [
       "<matplotlib.figure.Figure at 0x7f3db676b978>"
      ]
     },
     "metadata": {},
     "output_type": "display_data"
    },
    {
     "data": {
      "image/png": "[encoded data removed]",
      "text/plain": [
       "<matplotlib.figure.Figure at 0x7f3db6887978>"
      ]
     },
     "metadata": {},
     "output_type": "display_data"
    }
   ],
   "source": [
    "import matplotlib.pyplot as plt\n",
    "import numpy as np\n",
    "\n",
    "file_washington = './data/Washington-2016-Summary.csv'\n",
    "file_nyc= './data/NYC-2016-Summary.csv'\n",
    "file_chicago= './data/Chicago-2016-Summary.csv'\n",
    "\n",
    "washington_seasonal_subcriber, washington_seasonal_cutomer, washington_seasonal_proportion, washington_seasonal_users = seasonal_based_trips_computation(file_washington)\n",
    "\n",
    "print(\"WASHINGTON:\")\n",
    "\n",
    "key_season_subscribers_washinton = max(washington_seasonal_subcriber, key= washington_seasonal_subcriber.get)\n",
    "print(\"\\nMaximum Subscribers in Season:{} which is {}\"\n",
    "      .format(key_season_subscribers_washinton, washington_seasonal_subcriber[key_season_subscribers_washinton]))\n",
    "\n",
    "key_season_customers_washinton = max(washington_seasonal_cutomer, key= washington_seasonal_cutomer.get)\n",
    "print(\"\\nMaximum Customers in Season:{} which is {}\"\n",
    "      .format(key_season_customers_washinton, washington_seasonal_cutomer[key_season_customers_washinton]))\n",
    "\n",
    "key_season_users_washinton = max(washington_seasonal_users, key= washington_seasonal_users.get)\n",
    "print(\"\\nMaximum Users in Season:{} which is {}\"\n",
    "      .format(key_season_users_washinton, washington_seasonal_users[key_season_users_washinton]))\n",
    "\n",
    "\n",
    "nyc_seasonal_subcriber, nyc_seasonal_cutomer, nyc_seasonal_proportion, nyc_seasonal_users = seasonal_based_trips_computation(file_nyc)\n",
    "\n",
    "print(\"\\nNYC:\")\n",
    "\n",
    "key_season_subscribers_nyc = max(nyc_seasonal_subcriber, key= nyc_seasonal_subcriber.get)\n",
    "print(\"\\nMaximum Subscribers in Season:{} which is {}\"\n",
    "      .format(key_season_subscribers_nyc, nyc_seasonal_subcriber[key_season_subscribers_nyc]))\n",
    "\n",
    "key_season_customers_nyc = max(nyc_seasonal_cutomer, key= nyc_seasonal_cutomer.get)\n",
    "print(\"\\nMaximum Customers in Season:{} which is {}\"\n",
    "      .format(key_season_customers_nyc, nyc_seasonal_cutomer[key_season_customers_nyc]))\n",
    "\n",
    "key_season_users_nyc = max(nyc_seasonal_users, key= nyc_seasonal_users.get)\n",
    "print(\"\\nMaximum Users in Season:{} which is {}\"\n",
    "      .format(key_season_users_nyc, nyc_seasonal_users[key_season_users_nyc]))\n",
    "\n",
    "chi_seasonal_subcriber, chi_seasonal_cutomer, chi_seasonal_proportion, chi_seasonal_users = seasonal_based_trips_computation(file_chicago)\n",
    "print(\"\\nChicago:\")\n",
    "\n",
    "key_season_subscribers_chi = max(nyc_seasonal_subcriber, key= chi_seasonal_subcriber.get)\n",
    "print(\"\\nMaximum Subscribers in Season:{} which is {}\"\n",
    "      .format(key_season_subscribers_chi, chi_seasonal_subcriber[key_season_subscribers_chi]))\n",
    "\n",
    "key_season_customers_chi = max(chi_seasonal_cutomer, key= chi_seasonal_cutomer.get)\n",
    "print(\"\\nMaximum Customers in Season:{} which is {}\"\n",
    "      .format(key_season_customers_chi, chi_seasonal_cutomer[key_season_customers_chi]))\n",
    "\n",
    "key_season_users_chi = max(chi_seasonal_users, key= chi_seasonal_users.get)\n",
    "print(\"\\nMaximum Users in Season:{} which is {}\"\n",
    "      .format(key_season_users_chi, chi_seasonal_users[key_season_users_chi]))\n",
    "\n",
    "#Histogram for subscriber and customer\n",
    "x1 = [k for k in nyc_seasonal_subcriber]\n",
    "y1 = [v for v in nyc_seasonal_subcriber.values()]\n",
    "\n",
    "\n",
    "x2 = [k for k in nyc_seasonal_cutomer]\n",
    "y2 = [v for v in nyc_seasonal_cutomer.values()]\n",
    "\n",
    "\n",
    "plt.bar(x1, y1, alpha=0.5, label='Subscriber', color='r' )\n",
    "plt.bar(x2, y2, alpha=0.5, label='Customer', color='b')\n",
    "\n",
    "plt.title(\"Newyork Subscribers and Customers Bar Chart\")\n",
    "plt.xlabel(\"Seasons\")\n",
    "plt.ylabel(\"Number of Trips\")\n",
    "plt.legend()\n",
    "plt.show()\n",
    "\n",
    "\n",
    "x3 = [k for k in nyc_seasonal_proportion]\n",
    "y3 = [v for v in nyc_seasonal_proportion.values()]\n",
    "\n",
    "plt.bar(x3, y3, alpha=0.5, label='Proportion')\n",
    "plt.title(\"Ration of Subscribers trips to Customer trips\")\n",
    "\n",
    "plt.legend()\n",
    "plt.show()\n"
   ]
  },
  {
   "cell_type": "markdown",
   "metadata": {},
   "source": [
    "<a id='conclusions'></a>\n",
    "## Conclusions\n",
    "\n",
    "Congratulations on completing the project! This is only a sampling of the data analysis process: from generating questions, wrangling the data, and to exploring the data. Normally, at this point in the data analysis process, you might want to draw conclusions about the data by performing a statistical test or fitting the data to a model for making predictions. There are also a lot of potential analyses that could be performed on the data which are not possible with only the data provided. For example, detailed location data has not been investigated. Where are the most commonly used docks? What are the most common routes? As another example, weather has potential to have a large impact on daily ridership. How much is ridership impacted when there is rain or snow? Are subscribers or customers affected more by changes in weather?\n",
    "\n",
    "**Question 7**: Putting the bike share data aside, think of a topic or field of interest where you would like to be able to apply the techniques of data science. What would you like to be able to learn from your chosen subject?\n",
    "\n",
    "**Answer*: I would like to apply the techniques of data science to know how employee office timings affects productivity. I can get the data about the time employees come into the office and classify them based on timings. Now, I can investigate the tasks they work on and how efficient they are. This way, I would able to know how productive an employee is for a company.\n",
    "\n",
    "> **Tip**: If we want to share the results of our analysis with others, we aren't limited to giving them a copy of the jupyter Notebook (.ipynb) file. We can also export the Notebook output in a form that can be opened even for those without Python installed. From the **File** menu in the upper left, go to the **Download as** submenu. You can then choose a different format that can be viewed more generally, such as HTML (.html) or\n",
    "PDF (.pdf). You may need additional packages or software to perform these exports.\n",
    "\n",
    "> If you are working on this project via the Project Notebook page in the classroom, you can also submit this project directly from the workspace. **Before you do that**, you should save an HTML copy of the completed project to the workspace by running the code cell below. If it worked correctly, the output code should be a 0, and if you click on the jupyter icon in the upper left, you should see your .html document in the workspace directory. Alternatively, you can download the .html copy of your report following the steps in the previous paragraph, then _upload_ the report to the directory (by clicking the jupyter icon).\n",
    "\n",
    "> Either way, once you've gotten the .html report in your workspace, you can complete your submission by clicking on the \"Submit Project\" button to the lower-right hand side of the workspace."
   ]
  },
  {
   "cell_type": "code",
   "execution_count": 24,
   "metadata": {},
   "outputs": [
    {
     "data": {
      "text/plain": [
       "0"
      ]
     },
     "execution_count": 24,
     "metadata": {},
     "output_type": "execute_result"
    }
   ],
   "source": [
    "from subprocess import call\n",
    "call(['python', '-m', 'nbconvert', 'Bike_Share_Analysis.ipynb'])"
   ]
  }
 ],
 "metadata": {
  "anaconda-cloud": {},
  "kernelspec": {
   "display_name": "Python 3",
   "language": "python",
   "name": "python3"
  },
  "language_info": {
   "codemirror_mode": {
    "name": "ipython",
    "version": 3
   },
   "file_extension": ".py",
   "mimetype": "text/x-python",
   "name": "python",
   "nbconvert_exporter": "python",
   "pygments_lexer": "ipython3",
   "version": "3.6.3"
  }
 },
 "nbformat": 4,
 "nbformat_minor": 1
}
